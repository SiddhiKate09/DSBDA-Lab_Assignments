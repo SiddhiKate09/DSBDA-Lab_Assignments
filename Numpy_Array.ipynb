{
 "cells": [
  {
   "cell_type": "code",
   "execution_count": 46,
   "id": "428454d6-35cf-4f34-a87d-40a1a4d7ded8",
   "metadata": {},
   "outputs": [
    {
     "name": "stdout",
     "output_type": "stream",
     "text": [
      "Array:\n",
      " [[0.19636416 0.59612027 0.6314278 ]\n",
      " [0.69322516 0.16082825 0.02178801]\n",
      " [0.30456277 0.86499181 0.91861989]]\n",
      "Shape: (3, 3)\n"
     ]
    }
   ],
   "source": [
    "import numpy as np\n",
    "\n",
    "random_array = np.random.rand(3, 3)\n",
    "print(\"Array:\\n\", random_array)\n",
    "print(\"Shape:\", random_array.shape)\n"
   ]
  },
  {
   "cell_type": "code",
   "execution_count": 52,
   "id": "4f2fdaa1-815c-4aab-b6a6-62b56d8b3eb3",
   "metadata": {},
   "outputs": [
    {
     "name": "stdout",
     "output_type": "stream",
     "text": [
      "[0.19636416 0.59612027 0.6314278  0.69322516 0.16082825 0.02178801\n",
      " 0.30456277 0.86499181 0.91861989]\n"
     ]
    }
   ],
   "source": [
    "flat=random_array.flatten()\n",
    "print(flat)"
   ]
  },
  {
   "cell_type": "code",
   "execution_count": 54,
   "id": "1e6b0fe4-6a6a-4493-a493-efd5b7f21f0d",
   "metadata": {},
   "outputs": [
    {
     "name": "stdout",
     "output_type": "stream",
     "text": [
      "[[0.19636416 0.59612027 0.6314278 ]\n",
      " [0.69322516 0.16082825 0.02178801]\n",
      " [0.30456277 0.86499181 0.91861989]]\n"
     ]
    }
   ],
   "source": [
    "reshape=flat.reshape((3,3))\n",
    "print(reshape)"
   ]
  },
  {
   "cell_type": "code",
   "execution_count": 56,
   "id": "baebc92a-4b09-4f4c-8b0c-1ed5da7f11cd",
   "metadata": {},
   "outputs": [
    {
     "name": "stdout",
     "output_type": "stream",
     "text": [
      "[0.59612027 0.69322516 0.02178801]\n"
     ]
    }
   ],
   "source": [
    "idx=[1,3,5]\n",
    "print(flat[idx])"
   ]
  },
  {
   "cell_type": "code",
   "execution_count": null,
   "id": "a3b0241a-08e0-4e9c-87b7-228700239678",
   "metadata": {},
   "outputs": [],
   "source": []
  }
 ],
 "metadata": {
  "kernelspec": {
   "display_name": "Python [conda env:base] *",
   "language": "python",
   "name": "conda-base-py"
  },
  "language_info": {
   "codemirror_mode": {
    "name": "ipython",
    "version": 3
   },
   "file_extension": ".py",
   "mimetype": "text/x-python",
   "name": "python",
   "nbconvert_exporter": "python",
   "pygments_lexer": "ipython3",
   "version": "3.12.7"
  }
 },
 "nbformat": 4,
 "nbformat_minor": 5
}
