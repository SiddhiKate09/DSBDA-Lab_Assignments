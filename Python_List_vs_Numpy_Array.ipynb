{
 "cells": [
  {
   "cell_type": "code",
   "execution_count": 29,
   "id": "ac2bae5b-a13a-402c-8ef4-df5bfd5a3d8e",
   "metadata": {},
   "outputs": [
    {
     "name": "stdout",
     "output_type": "stream",
     "text": [
      "0.0010001659393310547\n",
      "[1, 4, 9, 16, 25, 36, 49, 64, 81]\n",
      "The time required to square the operations are 0.0010008811950683594\n",
      "The result of the square is [1, 4, 9, 16, 25, 36, 49, 64, 81]\n"
     ]
    }
   ],
   "source": [
    "import numpy as np\n",
    "import time\n",
    "size=100\n",
    "list1=list(range(size))\n",
    "list2=list(range(size))\n",
    "start=time.time()\n",
    "multiplication_res=[x*y for x , y in zip(list1,list2)]\n",
    "end=time.time()\n",
    "print(end-start)\n",
    "print(multiplication_res[1:10])\n",
    "start=time.time()\n",
    "square_ans_1= [x**2 for x in list1]\n",
    "end=time.time()\n",
    "print(f\"The time required to square the operations are {end-start}\")\n",
    "print(f\"The result of the square is {square_ans_1[1:10]}\") "
   ]
  },
  {
   "cell_type": "code",
   "execution_count": 23,
   "id": "ac10b5cc-a376-4f74-9738-47b2c2eacb92",
   "metadata": {},
   "outputs": [
    {
     "name": "stdout",
     "output_type": "stream",
     "text": [
      "0.0\n",
      "[ 1  4  9 16 25 36 49 64 81]\n",
      "100\n",
      "The time required to square the operations are 0.0\n",
      "The result of the square is [ 1  4  9 16 25 36 49 64 81]\n"
     ]
    }
   ],
   "source": [
    "\n",
    "list_1=np.array(range(size))\n",
    "list_2=np.array(range(size))\n",
    "start=time.time()\n",
    "multiplication_ans=list_1*list_2\n",
    "end=time.time()\n",
    "print(end-start)\n",
    "print(multiplication_ans[1:10])\n",
    "print(size)\n",
    "list_1.shape\n",
    "start=time.time()\n",
    "square_ans=list_1**2\n",
    "end=time.time()\n",
    "print(f\"The time required to square the operations are {end-start}\")\n",
    "print(f\"The result of the square is {square_ans[1:10]}\") "
   ]
  },
  {
   "cell_type": "code",
   "execution_count": null,
   "id": "1b445bc3-9874-4104-909b-38d4b1a3fe3c",
   "metadata": {},
   "outputs": [],
   "source": [
    "\n"
   ]
  }
 ],
 "metadata": {
  "kernelspec": {
   "display_name": "Python [conda env:base] *",
   "language": "python",
   "name": "conda-base-py"
  },
  "language_info": {
   "codemirror_mode": {
    "name": "ipython",
    "version": 3
   },
   "file_extension": ".py",
   "mimetype": "text/x-python",
   "name": "python",
   "nbconvert_exporter": "python",
   "pygments_lexer": "ipython3",
   "version": "3.12.7"
  }
 },
 "nbformat": 4,
 "nbformat_minor": 5
}
