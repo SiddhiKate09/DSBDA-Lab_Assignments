{
  "nbformat": 4,
  "nbformat_minor": 0,
  "metadata": {
    "colab": {
      "provenance": [],
      "authorship_tag": "ABX9TyN1MpxBRtO+JT25TSWtoUfI",
      "include_colab_link": true
    },
    "kernelspec": {
      "name": "python3",
      "display_name": "Python 3"
    },
    "language_info": {
      "name": "python"
    }
  },
  "cells": [
    {
      "cell_type": "markdown",
      "metadata": {
        "id": "view-in-github",
        "colab_type": "text"
      },
      "source": [
        "<a href=\"https://colab.research.google.com/github/SiddhiKate09/DSBDA-Lab_Assignments/blob/main/Introduction_Students_Marks_Data.ipynb\" target=\"_parent\"><img src=\"https://colab.research.google.com/assets/colab-badge.svg\" alt=\"Open In Colab\"/></a>"
      ]
    },
    {
      "cell_type": "code",
      "execution_count": null,
      "metadata": {
        "colab": {
          "base_uri": "https://localhost:8080/"
        },
        "id": "2RQIb9M5zmiy",
        "outputId": "ec1fc163-6fdb-4aae-fd71-225f7f98775f"
      },
      "outputs": [
        {
          "output_type": "stream",
          "name": "stdout",
          "text": [
            "Requirement already satisfied: odfpy in /usr/local/lib/python3.11/dist-packages (1.4.1)\n",
            "Requirement already satisfied: defusedxml in /usr/local/lib/python3.11/dist-packages (from odfpy) (0.7.1)\n"
          ]
        }
      ],
      "source": [
        "!pip install odfpy\n",
        "import pandas as pd\n",
        "import numpy as np"
      ]
    },
    {
      "cell_type": "code",
      "source": [
        "d = pd.read_excel(\"/content/Demo.xlsx\");"
      ],
      "metadata": {
        "id": "RzCmWZFKz9Ms"
      },
      "execution_count": null,
      "outputs": []
    },
    {
      "cell_type": "code",
      "source": [
        "print(d)"
      ],
      "metadata": {
        "colab": {
          "base_uri": "https://localhost:8080/"
        },
        "id": "zDgvqghw0IYE",
        "outputId": "f377e6ed-61b7-40ca-b9be-4cb9d4390c64"
      },
      "execution_count": null,
      "outputs": [
        {
          "output_type": "stream",
          "name": "stdout",
          "text": [
            "          Sr. no.                    Roll No        Name of the Student   DM  \\\n",
            "0               1                     SCOA01              ALISHA SHEIKH   24   \n",
            "1               2                     SCOA02  SOHAM JAYYANNTH DESHMUKKH   16   \n",
            "2               3                     SCOA03         SHELAR NEHA NILESH   20   \n",
            "3               4                     SCOA04                RIYA JAWALE   18   \n",
            "4               5                     SCOA05      NARHE VARSHA RAOSAHEB   20   \n",
            "..            ...                        ...                        ...  ...   \n",
            "77  Maximum marks                        NaN                        NaN   24   \n",
            "78            NaN                        NaN                        NaN  NaN   \n",
            "79            NaN                        NaN                        NaN  NaN   \n",
            "80            NaN                        NaN                        NaN  NaN   \n",
            "81            NaN  Internal Exam Coordinator                        NaN  NaN   \n",
            "\n",
            "    FDS  OOP   CG DELD  Unnamed: 8  Unnamed: 9  ...  Unnamed: 14  Unnamed: 15  \\\n",
            "0    27   20   15   16         NaN         NaN  ...          NaN          NaN   \n",
            "1     9    9   AB   AB         NaN         NaN  ...          NaN          NaN   \n",
            "2    23   16   15   15         NaN         NaN  ...          NaN          NaN   \n",
            "3    14   11    8   15         NaN         NaN  ...          NaN          NaN   \n",
            "4    24   16   24   20         NaN         NaN  ...          NaN          NaN   \n",
            "..  ...  ...  ...  ...         ...         ...  ...          ...          ...   \n",
            "77   27   25   29   27         NaN         NaN  ...          NaN          NaN   \n",
            "78  NaN  NaN  NaN  NaN         NaN         NaN  ...          NaN          NaN   \n",
            "79  NaN  NaN  NaN  NaN         NaN         NaN  ...          NaN          NaN   \n",
            "80  NaN  NaN  NaN  NaN         NaN         NaN  ...          NaN          NaN   \n",
            "81  NaN  NaN  HOD  NaN         NaN         NaN  ...          NaN          NaN   \n",
            "\n",
            "    Unnamed: 16  Unnamed: 17  Unnamed: 18  Unnamed: 19  Unnamed: 20  \\\n",
            "0           NaN          NaN          NaN          NaN          NaN   \n",
            "1           NaN          NaN          NaN          NaN          NaN   \n",
            "2           NaN          NaN          NaN          NaN          NaN   \n",
            "3           NaN          NaN          NaN          NaN          NaN   \n",
            "4           NaN          NaN          NaN          NaN          NaN   \n",
            "..          ...          ...          ...          ...          ...   \n",
            "77          NaN          NaN          NaN          NaN          NaN   \n",
            "78          NaN          NaN          NaN          NaN          NaN   \n",
            "79          NaN          NaN          NaN          NaN          NaN   \n",
            "80          NaN          NaN          NaN          NaN          NaN   \n",
            "81          NaN          NaN          NaN          NaN          NaN   \n",
            "\n",
            "    Unnamed: 21  Unnamed: 22  Unnamed: 23  \n",
            "0           NaN          NaN          NaN  \n",
            "1           NaN          NaN          NaN  \n",
            "2           NaN          NaN          NaN  \n",
            "3           NaN          NaN          NaN  \n",
            "4           NaN          NaN          NaN  \n",
            "..          ...          ...          ...  \n",
            "77          NaN          NaN          NaN  \n",
            "78          NaN          NaN         321`  \n",
            "79          NaN          NaN            `  \n",
            "80          NaN          NaN          NaN  \n",
            "81          NaN          NaN          NaN  \n",
            "\n",
            "[82 rows x 24 columns]\n"
          ]
        }
      ]
    },
    {
      "cell_type": "code",
      "source": [
        "r=d.replace(to_replace=np.nan,value=2)\n",
        "print(r)"
      ],
      "metadata": {
        "colab": {
          "base_uri": "https://localhost:8080/"
        },
        "id": "UKs1qqvy0YM1",
        "outputId": "e0e0c93d-054d-492d-9ac6-fc9c932bbd48"
      },
      "execution_count": null,
      "outputs": [
        {
          "output_type": "stream",
          "name": "stdout",
          "text": [
            "          Sr. no.                    Roll No        Name of the Student  DM  \\\n",
            "0               1                     SCOA01              ALISHA SHEIKH  24   \n",
            "1               2                     SCOA02  SOHAM JAYYANNTH DESHMUKKH  16   \n",
            "2               3                     SCOA03         SHELAR NEHA NILESH  20   \n",
            "3               4                     SCOA04                RIYA JAWALE  18   \n",
            "4               5                     SCOA05      NARHE VARSHA RAOSAHEB  20   \n",
            "..            ...                        ...                        ...  ..   \n",
            "77  Maximum marks                          2                          2  24   \n",
            "78              2                          2                          2   2   \n",
            "79              2                          2                          2   2   \n",
            "80              2                          2                          2   2   \n",
            "81              2  Internal Exam Coordinator                          2   2   \n",
            "\n",
            "   FDS OOP   CG DELD  Unnamed: 8  Unnamed: 9  ...  Unnamed: 14  Unnamed: 15  \\\n",
            "0   27  20   15   16         2.0         2.0  ...          2.0          2.0   \n",
            "1    9   9   AB   AB         2.0         2.0  ...          2.0          2.0   \n",
            "2   23  16   15   15         2.0         2.0  ...          2.0          2.0   \n",
            "3   14  11    8   15         2.0         2.0  ...          2.0          2.0   \n",
            "4   24  16   24   20         2.0         2.0  ...          2.0          2.0   \n",
            "..  ..  ..  ...  ...         ...         ...  ...          ...          ...   \n",
            "77  27  25   29   27         2.0         2.0  ...          2.0          2.0   \n",
            "78   2   2    2    2         2.0         2.0  ...          2.0          2.0   \n",
            "79   2   2    2    2         2.0         2.0  ...          2.0          2.0   \n",
            "80   2   2    2    2         2.0         2.0  ...          2.0          2.0   \n",
            "81   2   2  HOD    2         2.0         2.0  ...          2.0          2.0   \n",
            "\n",
            "    Unnamed: 16  Unnamed: 17  Unnamed: 18  Unnamed: 19  Unnamed: 20  \\\n",
            "0           2.0          2.0          2.0          2.0          2.0   \n",
            "1           2.0          2.0          2.0          2.0          2.0   \n",
            "2           2.0          2.0          2.0          2.0          2.0   \n",
            "3           2.0          2.0          2.0          2.0          2.0   \n",
            "4           2.0          2.0          2.0          2.0          2.0   \n",
            "..          ...          ...          ...          ...          ...   \n",
            "77          2.0          2.0          2.0          2.0          2.0   \n",
            "78          2.0          2.0          2.0          2.0          2.0   \n",
            "79          2.0          2.0          2.0          2.0          2.0   \n",
            "80          2.0          2.0          2.0          2.0          2.0   \n",
            "81          2.0          2.0          2.0          2.0          2.0   \n",
            "\n",
            "    Unnamed: 21  Unnamed: 22  Unnamed: 23  \n",
            "0           2.0          2.0            2  \n",
            "1           2.0          2.0            2  \n",
            "2           2.0          2.0            2  \n",
            "3           2.0          2.0            2  \n",
            "4           2.0          2.0            2  \n",
            "..          ...          ...          ...  \n",
            "77          2.0          2.0            2  \n",
            "78          2.0          2.0         321`  \n",
            "79          2.0          2.0            `  \n",
            "80          2.0          2.0            2  \n",
            "81          2.0          2.0            2  \n",
            "\n",
            "[82 rows x 24 columns]\n"
          ]
        }
      ]
    },
    {
      "cell_type": "code",
      "source": [
        "d = pd.read_excel(\"/content/Demo_copy.xlsx\");\n",
        "print(d)"
      ],
      "metadata": {
        "colab": {
          "base_uri": "https://localhost:8080/"
        },
        "id": "yMVtcZKr2JPu",
        "outputId": "65c1b702-ccfa-4678-eb3c-a947fdb2d6aa"
      },
      "execution_count": null,
      "outputs": [
        {
          "output_type": "stream",
          "name": "stdout",
          "text": [
            "          Sr. no.                    Roll No        Name of the Student   DM  \\\n",
            "0               1                     SCOA01              ALISHA SHEIKH   24   \n",
            "1               2                     SCOA02  SOHAM JAYYANNTH DESHMUKKH   16   \n",
            "2               3                     SCOA03         SHELAR NEHA NILESH   20   \n",
            "3               4                     SCOA04                RIYA JAWALE   18   \n",
            "4               5                     SCOA05      NARHE VARSHA RAOSAHEB   20   \n",
            "..            ...                        ...                        ...  ...   \n",
            "77  Maximum marks                        NaN                        NaN   24   \n",
            "78            NaN                        NaN                        NaN  NaN   \n",
            "79            NaN                        NaN                        NaN  NaN   \n",
            "80            NaN                        NaN                        NaN  NaN   \n",
            "81            NaN  Internal Exam Coordinator                        NaN  NaN   \n",
            "\n",
            "    FDS  OOP   CG DELD  Gender  Unnamed: 9  ...  Unnamed: 14  Unnamed: 15  \\\n",
            "0    27   20   15   16  female         NaN  ...          NaN          NaN   \n",
            "1     9    9   AB   AB  female         NaN  ...          NaN          NaN   \n",
            "2    23   16   15   15  female         NaN  ...          NaN          NaN   \n",
            "3    14   11    8   15  female         NaN  ...          NaN          NaN   \n",
            "4    24   16   24   20  female         NaN  ...          NaN          NaN   \n",
            "..  ...  ...  ...  ...     ...         ...  ...          ...          ...   \n",
            "77   27   25   29   27     NaN         NaN  ...          NaN          NaN   \n",
            "78  NaN  NaN  NaN  NaN     NaN         NaN  ...          NaN          NaN   \n",
            "79  NaN  NaN  NaN  NaN     NaN         NaN  ...          NaN          NaN   \n",
            "80  NaN  NaN  NaN  NaN     NaN         NaN  ...          NaN          NaN   \n",
            "81  NaN  NaN  HOD  NaN     NaN         NaN  ...          NaN          NaN   \n",
            "\n",
            "    Unnamed: 16  Unnamed: 17  Unnamed: 18  Unnamed: 19  Unnamed: 20  \\\n",
            "0           NaN          NaN          NaN          NaN          NaN   \n",
            "1           NaN          NaN          NaN          NaN          NaN   \n",
            "2           NaN          NaN          NaN          NaN          NaN   \n",
            "3           NaN          NaN          NaN          NaN          NaN   \n",
            "4           NaN          NaN          NaN          NaN          NaN   \n",
            "..          ...          ...          ...          ...          ...   \n",
            "77          NaN          NaN          NaN          NaN          NaN   \n",
            "78          NaN          NaN          NaN          NaN          NaN   \n",
            "79          NaN          NaN          NaN          NaN          NaN   \n",
            "80          NaN          NaN          NaN          NaN          NaN   \n",
            "81          NaN          NaN          NaN          NaN          NaN   \n",
            "\n",
            "    Unnamed: 21  Unnamed: 22  Unnamed: 23  \n",
            "0           NaN          NaN          NaN  \n",
            "1           NaN          NaN          NaN  \n",
            "2           NaN          NaN          NaN  \n",
            "3           NaN          NaN          NaN  \n",
            "4           NaN          NaN          NaN  \n",
            "..          ...          ...          ...  \n",
            "77          NaN          NaN          NaN  \n",
            "78          NaN          NaN         321`  \n",
            "79          NaN          NaN            `  \n",
            "80          NaN          NaN          NaN  \n",
            "81          NaN          NaN          NaN  \n",
            "\n",
            "[82 rows x 24 columns]\n"
          ]
        }
      ]
    },
    {
      "cell_type": "code",
      "source": [
        "d=d['Gender'].map({'male':0,'female':1})\n",
        "print(d)"
      ],
      "metadata": {
        "colab": {
          "base_uri": "https://localhost:8080/"
        },
        "id": "5UZwQD-d4P1h",
        "outputId": "e9e2ca49-ad5c-4c2f-93ae-76a32a5361f5"
      },
      "execution_count": null,
      "outputs": [
        {
          "output_type": "stream",
          "name": "stdout",
          "text": [
            "0     1.0\n",
            "1     1.0\n",
            "2     1.0\n",
            "3     1.0\n",
            "4     1.0\n",
            "     ... \n",
            "77    NaN\n",
            "78    NaN\n",
            "79    NaN\n",
            "80    NaN\n",
            "81    NaN\n",
            "Name: Gender, Length: 82, dtype: float64\n"
          ]
        }
      ]
    },
    {
      "cell_type": "code",
      "source": [
        "import pandas as pd\n",
        "d1 = [{'rollno': [1, 2, 3, 4, 5]}, {'name': ['sam', 'ram', 'geeta', 'radha', 'tiya']}]\n"
      ],
      "metadata": {
        "id": "ZOqsWI1Cf0rs"
      },
      "execution_count": null,
      "outputs": []
    },
    {
      "cell_type": "code",
      "source": [
        "df = pd.DataFrame(d1)\n",
        "print(df)\n"
      ],
      "metadata": {
        "colab": {
          "base_uri": "https://localhost:8080/"
        },
        "id": "wZTrbr_fheuq",
        "outputId": "00dc30ad-6996-4b1d-c53c-3bb82ade28b5"
      },
      "execution_count": null,
      "outputs": [
        {
          "output_type": "stream",
          "name": "stdout",
          "text": [
            "            rollno                            name\n",
            "0  [1, 2, 3, 4, 5]                             NaN\n",
            "1              NaN  [sam, ram, geeta, radha, tiya]\n"
          ]
        }
      ]
    },
    {
      "cell_type": "code",
      "source": [
        "import pandas as pd\n",
        "\n",
        "d2 = {'rollno': [1, 2, 3, 4, 5], 'marks': [10, 20, 15, 20, 10]}\n",
        "df2 = pd.DataFrame(d2)\n",
        "print(df2)\n"
      ],
      "metadata": {
        "colab": {
          "base_uri": "https://localhost:8080/"
        },
        "id": "hfIj546EhgI5",
        "outputId": "ec6796b7-0570-4196-b05f-7b3bc195684c"
      },
      "execution_count": null,
      "outputs": [
        {
          "output_type": "stream",
          "name": "stdout",
          "text": [
            "   rollno  marks\n",
            "0       1     10\n",
            "1       2     20\n",
            "2       3     15\n",
            "3       4     20\n",
            "4       5     10\n"
          ]
        }
      ]
    },
    {
      "cell_type": "code",
      "source": [
        "import pandas as pd\n",
        "\n",
        "\n",
        "d1 = {'rollno': [1, 2, 3, 4, 5], 'name': ['sam', 'ram', 'geeta', 'radha', 'tiya']}\n",
        "df = pd.DataFrame(d1)\n",
        "\n",
        "\n",
        "d2 = {'rollno': [1, 2, 3, 4, 5], 'marks': [10, 20, 15, 20, 10]}\n",
        "df2 = pd.DataFrame(d2)\n",
        "\n",
        "\n",
        "merged_df = pd.merge(df, df2, on='rollno')\n",
        "\n",
        "print(merged_df)\n"
      ],
      "metadata": {
        "colab": {
          "base_uri": "https://localhost:8080/"
        },
        "id": "-GKiN0yJiaYQ",
        "outputId": "81d89e83-009b-41ae-d459-32c3efa15bb3"
      },
      "execution_count": null,
      "outputs": [
        {
          "output_type": "stream",
          "name": "stdout",
          "text": [
            "   rollno   name  marks\n",
            "0       1    sam     10\n",
            "1       2    ram     20\n",
            "2       3  geeta     15\n",
            "3       4  radha     20\n",
            "4       5   tiya     10\n"
          ]
        }
      ]
    },
    {
      "cell_type": "code",
      "source": [
        "import pandas as pd\n",
        "\n",
        "\n",
        "data = {'A': [1, 2, None, 4, None, 6]}\n",
        "df = pd.DataFrame(data)\n",
        "\n",
        "\n",
        "df_ffill = df.ffill(axis=0)\n",
        "print(df_ffill)\n"
      ],
      "metadata": {
        "colab": {
          "base_uri": "https://localhost:8080/"
        },
        "id": "ns5ZlREzkWZ8",
        "outputId": "cc2a8f93-1099-4d09-9245-718435842ab7"
      },
      "execution_count": null,
      "outputs": [
        {
          "output_type": "stream",
          "name": "stdout",
          "text": [
            "     A\n",
            "0  1.0\n",
            "1  2.0\n",
            "2  2.0\n",
            "3  4.0\n",
            "4  4.0\n",
            "5  6.0\n"
          ]
        }
      ]
    },
    {
      "cell_type": "code",
      "source": [
        "import pandas as pd\n",
        "data1= {'A': [1, 2, None, 4, None, 6]}\n",
        "df1= pd.DataFrame(data1)\n",
        "dback=df.bfill(axis=1)\n",
        "print(dback)"
      ],
      "metadata": {
        "colab": {
          "base_uri": "https://localhost:8080/"
        },
        "id": "BwkENqzekpP1",
        "outputId": "bfd5aeb0-d8c2-4a6e-b298-819e25c8a35d"
      },
      "execution_count": null,
      "outputs": [
        {
          "output_type": "stream",
          "name": "stdout",
          "text": [
            "     A\n",
            "0  1.0\n",
            "1  2.0\n",
            "2  NaN\n",
            "3  4.0\n",
            "4  NaN\n",
            "5  6.0\n"
          ]
        }
      ]
    },
    {
      "cell_type": "code",
      "source": [
        "!pip install odfpy\n",
        "import pandas as pd\n",
        "import numpy as np\n",
        "d = pd.read_excel(\"/content/Demo Data DSBDA.xlsx\")\n",
        "print(d)"
      ],
      "metadata": {
        "colab": {
          "base_uri": "https://localhost:8080/"
        },
        "id": "4vf0-9-anBRB",
        "outputId": "0b2a3250-f9cc-4963-83a9-8dc591a7eb53"
      },
      "execution_count": null,
      "outputs": [
        {
          "output_type": "stream",
          "name": "stdout",
          "text": [
            "Requirement already satisfied: odfpy in /usr/local/lib/python3.11/dist-packages (1.4.1)\n",
            "Requirement already satisfied: defusedxml in /usr/local/lib/python3.11/dist-packages (from odfpy) (0.7.1)\n",
            "          Sr. no.                    Roll No        Name of the Student   DM  \\\n",
            "0               1                     SCOA01              ALISHA SHEIKH   24   \n",
            "1               2                     SCOA02  SOHAM JAYYANNTH DESHMUKKH   16   \n",
            "2               3                     SCOA03         SHELAR NEHA NILESH   20   \n",
            "3               4                     SCOA04                RIYA JAWALE   18   \n",
            "4               5                     SCOA05      NARHE VARSHA RAOSAHEB   20   \n",
            "..            ...                        ...                        ...  ...   \n",
            "77  Maximum marks                        NaN                        NaN   24   \n",
            "78            NaN                        NaN                        NaN  NaN   \n",
            "79            NaN                        NaN                        NaN  NaN   \n",
            "80            NaN                        NaN                        NaN  NaN   \n",
            "81            NaN  Internal Exam Coordinator                        NaN  NaN   \n",
            "\n",
            "    FDS  OOP   CG DELD  Unnamed: 8  Unnamed: 9  ...  Unnamed: 14  Unnamed: 15  \\\n",
            "0    27   20   15   16         NaN         NaN  ...          NaN          NaN   \n",
            "1     9    9   AB   AB         NaN         NaN  ...          NaN          NaN   \n",
            "2    23   16   15   15         NaN         NaN  ...          NaN          NaN   \n",
            "3    14   11    8   15         NaN         NaN  ...          NaN          NaN   \n",
            "4    24   16   24   20         NaN         NaN  ...          NaN          NaN   \n",
            "..  ...  ...  ...  ...         ...         ...  ...          ...          ...   \n",
            "77   27   25   29   27         NaN         NaN  ...          NaN          NaN   \n",
            "78  NaN  NaN  NaN  NaN         NaN         NaN  ...          NaN          NaN   \n",
            "79  NaN  NaN  NaN  NaN         NaN         NaN  ...          NaN          NaN   \n",
            "80  NaN  NaN  NaN  NaN         NaN         NaN  ...          NaN          NaN   \n",
            "81  NaN  NaN  HOD  NaN         NaN         NaN  ...          NaN          NaN   \n",
            "\n",
            "    Unnamed: 16  Unnamed: 17  Unnamed: 18  Unnamed: 19  Unnamed: 20  \\\n",
            "0           NaN          NaN          NaN          NaN          NaN   \n",
            "1           NaN          NaN          NaN          NaN          NaN   \n",
            "2           NaN          NaN          NaN          NaN          NaN   \n",
            "3           NaN          NaN          NaN          NaN          NaN   \n",
            "4           NaN          NaN          NaN          NaN          NaN   \n",
            "..          ...          ...          ...          ...          ...   \n",
            "77          NaN          NaN          NaN          NaN          NaN   \n",
            "78          NaN          NaN          NaN          NaN          NaN   \n",
            "79          NaN          NaN          NaN          NaN          NaN   \n",
            "80          NaN          NaN          NaN          NaN          NaN   \n",
            "81          NaN          NaN          NaN          NaN          NaN   \n",
            "\n",
            "    Unnamed: 21  Unnamed: 22  Unnamed: 23  \n",
            "0           NaN          NaN          NaN  \n",
            "1           NaN          NaN          NaN  \n",
            "2           NaN          NaN          NaN  \n",
            "3           NaN          NaN          NaN  \n",
            "4           NaN          NaN          NaN  \n",
            "..          ...          ...          ...  \n",
            "77          NaN          NaN          NaN  \n",
            "78          NaN          NaN         321`  \n",
            "79          NaN          NaN            `  \n",
            "80          NaN          NaN          NaN  \n",
            "81          NaN          NaN          NaN  \n",
            "\n",
            "[82 rows x 24 columns]\n"
          ]
        }
      ]
    },
    {
      "cell_type": "code",
      "source": [
        "print(d)"
      ],
      "metadata": {
        "colab": {
          "base_uri": "https://localhost:8080/"
        },
        "id": "EL9jJASgnSFS",
        "outputId": "dc561816-12d0-45a6-c62e-a17476ed6fb3"
      },
      "execution_count": null,
      "outputs": [
        {
          "output_type": "stream",
          "name": "stdout",
          "text": [
            "          Sr. no.                    Roll No        Name of the Student   DM  \\\n",
            "0               1                     SCOA01              ALISHA SHEIKH   24   \n",
            "1               2                     SCOA02  SOHAM JAYYANNTH DESHMUKKH   16   \n",
            "2               3                     SCOA03         SHELAR NEHA NILESH   20   \n",
            "3               4                     SCOA04                RIYA JAWALE   18   \n",
            "4               5                     SCOA05      NARHE VARSHA RAOSAHEB   20   \n",
            "..            ...                        ...                        ...  ...   \n",
            "77  Maximum marks                        NaN                        NaN   24   \n",
            "78            NaN                        NaN                        NaN  NaN   \n",
            "79            NaN                        NaN                        NaN  NaN   \n",
            "80            NaN                        NaN                        NaN  NaN   \n",
            "81            NaN  Internal Exam Coordinator                        NaN  NaN   \n",
            "\n",
            "    FDS  OOP   CG DELD  Unnamed: 8  Unnamed: 9  ...  Unnamed: 14  Unnamed: 15  \\\n",
            "0    27   20   15   16         NaN         NaN  ...          NaN          NaN   \n",
            "1     9    9   AB   AB         NaN         NaN  ...          NaN          NaN   \n",
            "2    23   16   15   15         NaN         NaN  ...          NaN          NaN   \n",
            "3    14   11    8   15         NaN         NaN  ...          NaN          NaN   \n",
            "4    24   16   24   20         NaN         NaN  ...          NaN          NaN   \n",
            "..  ...  ...  ...  ...         ...         ...  ...          ...          ...   \n",
            "77   27   25   29   27         NaN         NaN  ...          NaN          NaN   \n",
            "78  NaN  NaN  NaN  NaN         NaN         NaN  ...          NaN          NaN   \n",
            "79  NaN  NaN  NaN  NaN         NaN         NaN  ...          NaN          NaN   \n",
            "80  NaN  NaN  NaN  NaN         NaN         NaN  ...          NaN          NaN   \n",
            "81  NaN  NaN  HOD  NaN         NaN         NaN  ...          NaN          NaN   \n",
            "\n",
            "    Unnamed: 16  Unnamed: 17  Unnamed: 18  Unnamed: 19  Unnamed: 20  \\\n",
            "0           NaN          NaN          NaN          NaN          NaN   \n",
            "1           NaN          NaN          NaN          NaN          NaN   \n",
            "2           NaN          NaN          NaN          NaN          NaN   \n",
            "3           NaN          NaN          NaN          NaN          NaN   \n",
            "4           NaN          NaN          NaN          NaN          NaN   \n",
            "..          ...          ...          ...          ...          ...   \n",
            "77          NaN          NaN          NaN          NaN          NaN   \n",
            "78          NaN          NaN          NaN          NaN          NaN   \n",
            "79          NaN          NaN          NaN          NaN          NaN   \n",
            "80          NaN          NaN          NaN          NaN          NaN   \n",
            "81          NaN          NaN          NaN          NaN          NaN   \n",
            "\n",
            "    Unnamed: 21  Unnamed: 22  Unnamed: 23  \n",
            "0           NaN          NaN          NaN  \n",
            "1           NaN          NaN          NaN  \n",
            "2           NaN          NaN          NaN  \n",
            "3           NaN          NaN          NaN  \n",
            "4           NaN          NaN          NaN  \n",
            "..          ...          ...          ...  \n",
            "77          NaN          NaN          NaN  \n",
            "78          NaN          NaN         321`  \n",
            "79          NaN          NaN            `  \n",
            "80          NaN          NaN          NaN  \n",
            "81          NaN          NaN          NaN  \n",
            "\n",
            "[82 rows x 24 columns]\n"
          ]
        }
      ]
    },
    {
      "cell_type": "code",
      "source": [
        "print(d.columns)\n"
      ],
      "metadata": {
        "colab": {
          "base_uri": "https://localhost:8080/"
        },
        "id": "R3S6YdpUpBR2",
        "outputId": "f2cc58ef-5ad1-48b5-e87b-fa27bf229b8a"
      },
      "execution_count": null,
      "outputs": [
        {
          "output_type": "stream",
          "name": "stdout",
          "text": [
            "Index(['Sr. no.', ' Roll No', 'Name of the Student', 'DM', 'FDS', 'OOP', 'CG',\n",
            "       'DELD', 'Unnamed: 8', 'Unnamed: 9', 'Unnamed: 10', 'Unnamed: 11',\n",
            "       'Unnamed: 12', 'Unnamed: 13', 'Unnamed: 14', 'Unnamed: 15',\n",
            "       'Unnamed: 16', 'Unnamed: 17', 'Unnamed: 18', 'Unnamed: 19',\n",
            "       'Unnamed: 20', 'Unnamed: 21', 'Unnamed: 22', 'Unnamed: 23'],\n",
            "      dtype='object')\n"
          ]
        }
      ]
    },
    {
      "cell_type": "code",
      "source": [
        "!pip install odfpy\n",
        "import pandas as pd\n",
        "import numpy as np\n",
        "d = pd.read_excel(\"/content/Demo Data DSBDA.xlsx\")\n",
        "print(d)"
      ],
      "metadata": {
        "colab": {
          "base_uri": "https://localhost:8080/"
        },
        "id": "2sxPe5JFpPO2",
        "outputId": "c9e1c64c-385e-476a-db71-fa15fc8de2e4"
      },
      "execution_count": null,
      "outputs": [
        {
          "output_type": "stream",
          "name": "stdout",
          "text": [
            "Requirement already satisfied: odfpy in /usr/local/lib/python3.11/dist-packages (1.4.1)\n",
            "Requirement already satisfied: defusedxml in /usr/local/lib/python3.11/dist-packages (from odfpy) (0.7.1)\n",
            "    Sr. no.                    Roll No        Name of the Student    DM  FDS  \\\n",
            "0       1.0                     SCOA01              ALISHA SHEIKH  24.0   27   \n",
            "1       2.0                     SCOA02  SOHAM JAYYANNTH DESHMUKKH  16.0    9   \n",
            "2       3.0                     SCOA03         SHELAR NEHA NILESH  20.0   23   \n",
            "3       4.0                     SCOA04                RIYA JAWALE  18.0   14   \n",
            "4       5.0                     SCOA05      NARHE VARSHA RAOSAHEB  20.0   24   \n",
            "..      ...                        ...                        ...   ...  ...   \n",
            "77      NaN                        NaN                        NaN   NaN  NaN   \n",
            "78      NaN                        NaN                        NaN   NaN  NaN   \n",
            "79      NaN                        NaN                        NaN   NaN  NaN   \n",
            "80      NaN                        NaN                        NaN   NaN  NaN   \n",
            "81      NaN  Internal Exam Coordinator                        NaN   NaN  NaN   \n",
            "\n",
            "    OOP   CG  DELD Gender  Unnamed: 9  ...  Unnamed: 14  Unnamed: 15  \\\n",
            "0    20   15  16.0      f         NaN  ...          NaN          NaN   \n",
            "1     9   AB   1.0      f         NaN  ...          NaN          NaN   \n",
            "2    16   15  15.0      f         NaN  ...          NaN          NaN   \n",
            "3    11    8  15.0      f         NaN  ...          NaN          NaN   \n",
            "4    16   24  20.0      f         NaN  ...          NaN          NaN   \n",
            "..  ...  ...   ...    ...         ...  ...          ...          ...   \n",
            "77  NaN  NaN   NaN    NaN         NaN  ...          NaN          NaN   \n",
            "78  NaN  NaN   NaN    NaN         NaN  ...          NaN          NaN   \n",
            "79  NaN  NaN   NaN    NaN         NaN  ...          NaN          NaN   \n",
            "80  NaN  NaN   NaN    NaN         NaN  ...          NaN          NaN   \n",
            "81  NaN  NaN   NaN    NaN         NaN  ...          NaN          NaN   \n",
            "\n",
            "    Unnamed: 16  Unnamed: 17  Unnamed: 18  Unnamed: 19  Unnamed: 20  \\\n",
            "0           NaN          NaN          NaN          NaN          NaN   \n",
            "1           NaN          NaN          NaN          NaN          NaN   \n",
            "2           NaN          NaN          NaN          NaN          NaN   \n",
            "3           NaN          NaN          NaN          NaN          NaN   \n",
            "4           NaN          NaN          NaN          NaN          NaN   \n",
            "..          ...          ...          ...          ...          ...   \n",
            "77          NaN          NaN          NaN          NaN          NaN   \n",
            "78          NaN          NaN          NaN          NaN          NaN   \n",
            "79          NaN          NaN          NaN          NaN          NaN   \n",
            "80          NaN          NaN          NaN          NaN          NaN   \n",
            "81          NaN          NaN          NaN          NaN          NaN   \n",
            "\n",
            "    Unnamed: 21  Unnamed: 22  Unnamed: 23  \n",
            "0           NaN          NaN          NaN  \n",
            "1           NaN          NaN          NaN  \n",
            "2           NaN          NaN          NaN  \n",
            "3           NaN          NaN          NaN  \n",
            "4           NaN          NaN          NaN  \n",
            "..          ...          ...          ...  \n",
            "77          NaN          NaN          NaN  \n",
            "78          NaN          NaN         321`  \n",
            "79          NaN          NaN            `  \n",
            "80          NaN          NaN          NaN  \n",
            "81          NaN          NaN          NaN  \n",
            "\n",
            "[82 rows x 24 columns]\n"
          ]
        }
      ]
    },
    {
      "cell_type": "code",
      "source": [
        "r = d.groupby('Gender')\n",
        "first_row = r.first()\n",
        "print(first_row)"
      ],
      "metadata": {
        "colab": {
          "base_uri": "https://localhost:8080/"
        },
        "id": "Ri5hHzG7pi1X",
        "outputId": "cc3adf5e-52ec-4d7f-d8d0-d0cf74231ceb"
      },
      "execution_count": null,
      "outputs": [
        {
          "output_type": "stream",
          "name": "stdout",
          "text": [
            "        Sr. no.  Roll No Name of the Student  DM FDS OOP  CG DELD  Unnamed: 9  \\\n",
            "Gender                                                                          \n",
            "f           1.0   SCOA01       ALISHA SHEIKH  24  27  20  15   16         NaN   \n",
            "m          20.0   SCOA20  VIDULA VIKAS PATIL  20  24  16  26   20         NaN   \n",
            "\n",
            "        Unnamed: 10  ...  Unnamed: 14  Unnamed: 15  Unnamed: 16  Unnamed: 17  \\\n",
            "Gender               ...                                                       \n",
            "f               NaN  ...          NaN          NaN          NaN          NaN   \n",
            "m               NaN  ...          NaN          NaN          NaN          NaN   \n",
            "\n",
            "        Unnamed: 18  Unnamed: 19  Unnamed: 20  Unnamed: 21  Unnamed: 22  \\\n",
            "Gender                                                                    \n",
            "f               NaN          NaN          NaN          NaN          NaN   \n",
            "m               NaN          NaN          NaN          NaN          NaN   \n",
            "\n",
            "        Unnamed: 23  \n",
            "Gender               \n",
            "f              None  \n",
            "m              None  \n",
            "\n",
            "[2 rows x 23 columns]\n"
          ]
        }
      ]
    },
    {
      "cell_type": "code",
      "source": [
        "count = r.count()\n",
        "print(count)"
      ],
      "metadata": {
        "colab": {
          "base_uri": "https://localhost:8080/"
        },
        "id": "oq93GGbGp4-I",
        "outputId": "3d80459a-9400-442d-fa28-84a39cb2160f"
      },
      "execution_count": null,
      "outputs": [
        {
          "output_type": "stream",
          "name": "stdout",
          "text": [
            "        Sr. no.   Roll No  Name of the Student  DM  FDS  OOP  CG  DELD  \\\n",
            "Gender                                                                   \n",
            "f            41        41                   41  41   41   41  41    41   \n",
            "m            26        26                   26  26   26   26  26    26   \n",
            "\n",
            "        Unnamed: 9  Unnamed: 10  ...  Unnamed: 14  Unnamed: 15  Unnamed: 16  \\\n",
            "Gender                           ...                                          \n",
            "f                0            0  ...            0            0            0   \n",
            "m                0            0  ...            0            0            0   \n",
            "\n",
            "        Unnamed: 17  Unnamed: 18  Unnamed: 19  Unnamed: 20  Unnamed: 21  \\\n",
            "Gender                                                                    \n",
            "f                 0            0            0            0            0   \n",
            "m                 0            0            0            0            0   \n",
            "\n",
            "        Unnamed: 22  Unnamed: 23  \n",
            "Gender                            \n",
            "f                 0            0  \n",
            "m                 0            0  \n",
            "\n",
            "[2 rows x 23 columns]\n"
          ]
        }
      ]
    },
    {
      "cell_type": "code",
      "source": [
        "coRelation=d['DM'].corr(d['DELD'])\n",
        "print(coRelation)"
      ],
      "metadata": {
        "colab": {
          "base_uri": "https://localhost:8080/"
        },
        "id": "OiMe_lZFrODq",
        "outputId": "2d286f46-8d7a-4965-d000-c6d6ae781361"
      },
      "execution_count": null,
      "outputs": [
        {
          "output_type": "stream",
          "name": "stdout",
          "text": [
            "0.5199107196634403\n"
          ]
        }
      ]
    },
    {
      "cell_type": "code",
      "source": [
        "d['DM'].describe()"
      ],
      "metadata": {
        "colab": {
          "base_uri": "https://localhost:8080/",
          "height": 335
        },
        "id": "HY_mmgKAsDOq",
        "outputId": "ff015011-cf03-44f3-af72-4df4b54dec02"
      },
      "execution_count": null,
      "outputs": [
        {
          "output_type": "execute_result",
          "data": {
            "text/plain": [
              "count    67.000000\n",
              "mean     15.313433\n",
              "std       6.965736\n",
              "min       0.000000\n",
              "25%      11.000000\n",
              "50%      16.000000\n",
              "75%      20.500000\n",
              "max      24.000000\n",
              "Name: DM, dtype: float64"
            ],
            "text/html": [
              "<div>\n",
              "<style scoped>\n",
              "    .dataframe tbody tr th:only-of-type {\n",
              "        vertical-align: middle;\n",
              "    }\n",
              "\n",
              "    .dataframe tbody tr th {\n",
              "        vertical-align: top;\n",
              "    }\n",
              "\n",
              "    .dataframe thead th {\n",
              "        text-align: right;\n",
              "    }\n",
              "</style>\n",
              "<table border=\"1\" class=\"dataframe\">\n",
              "  <thead>\n",
              "    <tr style=\"text-align: right;\">\n",
              "      <th></th>\n",
              "      <th>DM</th>\n",
              "    </tr>\n",
              "  </thead>\n",
              "  <tbody>\n",
              "    <tr>\n",
              "      <th>count</th>\n",
              "      <td>67.000000</td>\n",
              "    </tr>\n",
              "    <tr>\n",
              "      <th>mean</th>\n",
              "      <td>15.313433</td>\n",
              "    </tr>\n",
              "    <tr>\n",
              "      <th>std</th>\n",
              "      <td>6.965736</td>\n",
              "    </tr>\n",
              "    <tr>\n",
              "      <th>min</th>\n",
              "      <td>0.000000</td>\n",
              "    </tr>\n",
              "    <tr>\n",
              "      <th>25%</th>\n",
              "      <td>11.000000</td>\n",
              "    </tr>\n",
              "    <tr>\n",
              "      <th>50%</th>\n",
              "      <td>16.000000</td>\n",
              "    </tr>\n",
              "    <tr>\n",
              "      <th>75%</th>\n",
              "      <td>20.500000</td>\n",
              "    </tr>\n",
              "    <tr>\n",
              "      <th>max</th>\n",
              "      <td>24.000000</td>\n",
              "    </tr>\n",
              "  </tbody>\n",
              "</table>\n",
              "</div><br><label><b>dtype:</b> float64</label>"
            ]
          },
          "metadata": {},
          "execution_count": 25
        }
      ]
    },
    {
      "cell_type": "code",
      "source": [
        "res=d['DM'].drop_duplicates()\n",
        "print(res)"
      ],
      "metadata": {
        "colab": {
          "base_uri": "https://localhost:8080/"
        },
        "id": "CxfBq8u2telH",
        "outputId": "1d4f2564-c20b-4103-868a-f379628012b8"
      },
      "execution_count": null,
      "outputs": [
        {
          "output_type": "stream",
          "name": "stdout",
          "text": [
            "0     24.0\n",
            "1     16.0\n",
            "2     20.0\n",
            "3     18.0\n",
            "6     22.0\n",
            "16    12.0\n",
            "21    21.0\n",
            "25     8.0\n",
            "27    14.0\n",
            "37    23.0\n",
            "38     1.0\n",
            "44     6.0\n",
            "48    10.0\n",
            "55     0.0\n",
            "61     2.0\n",
            "64     4.0\n",
            "67     NaN\n",
            "Name: DM, dtype: float64\n"
          ]
        }
      ]
    },
    {
      "cell_type": "code",
      "source": [
        "import pandas as pd\n",
        "\n",
        "\n",
        "data = {\n",
        "    'Region': ['North', 'North', 'South', 'South', 'East', 'East'],\n",
        "    'Product': ['A', 'B', 'A', 'B', 'A', 'B'],\n",
        "    'Sales': [200, 300, 150, 400, 100, 500]\n",
        "}\n",
        "\n",
        "df = pd.DataFrame(data)\n",
        "\n",
        "print(\"Original DataFrame:\")\n",
        "print(df)\n"
      ],
      "metadata": {
        "colab": {
          "base_uri": "https://localhost:8080/"
        },
        "id": "P9biL4OnuAkQ",
        "outputId": "cb7d9e5d-6d1d-4448-decd-9f5315456d4d"
      },
      "execution_count": null,
      "outputs": [
        {
          "output_type": "stream",
          "name": "stdout",
          "text": [
            "Original DataFrame:\n",
            "  Region Product  Sales\n",
            "0  North       A    200\n",
            "1  North       B    300\n",
            "2  South       A    150\n",
            "3  South       B    400\n",
            "4   East       A    100\n",
            "5   East       B    500\n"
          ]
        }
      ]
    },
    {
      "cell_type": "code",
      "source": [
        "pivoted_df = df.pivot_table(index='Region', columns='Product', values='Sales')\n",
        "print(pivoted_df)"
      ],
      "metadata": {
        "colab": {
          "base_uri": "https://localhost:8080/"
        },
        "id": "rfwSjOcuu4g6",
        "outputId": "64ea88ce-daaa-48ad-f212-284243beefa0"
      },
      "execution_count": null,
      "outputs": [
        {
          "output_type": "stream",
          "name": "stdout",
          "text": [
            "Product      A      B\n",
            "Region               \n",
            "East     100.0  500.0\n",
            "North    200.0  300.0\n",
            "South    150.0  400.0\n"
          ]
        }
      ]
    },
    {
      "cell_type": "code",
      "source": [
        "import pandas as pd\n",
        "data1= {'A': [1, 2, None, 4, None, 6]}\n",
        "df1= pd.DataFrame(data1)\n",
        "dback=df.bfill(axis=1)\n",
        "print(dback)"
      ],
      "metadata": {
        "colab": {
          "base_uri": "https://localhost:8080/"
        },
        "id": "l8MomywzyRiP",
        "outputId": "3ec1d681-563d-4371-8572-6099d5ca2246"
      },
      "execution_count": null,
      "outputs": [
        {
          "output_type": "stream",
          "name": "stdout",
          "text": [
            "  Region Product Sales\n",
            "0  North       A   200\n",
            "1  North       B   300\n",
            "2  South       A   150\n",
            "3  South       B   400\n",
            "4   East       A   100\n",
            "5   East       B   500\n"
          ]
        }
      ]
    },
    {
      "cell_type": "code",
      "source": [
        "import pandas as pd\n",
        "data1= {'A': [1, 2, None, 4, None, 6]}\n",
        "df1= pd.DataFrame(data1)\n",
        "dback=df.bfill(axis=1)\n",
        "print(dback)"
      ],
      "metadata": {
        "colab": {
          "base_uri": "https://localhost:8080/"
        },
        "id": "NyR_2Xieznti",
        "outputId": "692fa918-0be2-45c2-ded1-3084b9c6e6f9"
      },
      "execution_count": null,
      "outputs": [
        {
          "output_type": "stream",
          "name": "stdout",
          "text": [
            "  Region Product Sales\n",
            "0  North       A   200\n",
            "1  North       B   300\n",
            "2  South       A   150\n",
            "3  South       B   400\n",
            "4   East       A   100\n",
            "5   East       B   500\n"
          ]
        }
      ]
    },
    {
      "cell_type": "code",
      "source": [
        "import pandas as pd\n",
        "result={'A':[1,2,None,4,None,6]}\n",
        "r=pd.DataFrame(result)\n",
        "dback=r.bfill(axis=0)\n",
        "print(r)"
      ],
      "metadata": {
        "colab": {
          "base_uri": "https://localhost:8080/"
        },
        "id": "eWO9qGDSzsGR",
        "outputId": "21681c0b-5b43-4dc9-94f2-dce235141c44"
      },
      "execution_count": null,
      "outputs": [
        {
          "output_type": "stream",
          "name": "stdout",
          "text": [
            "     A\n",
            "0  1.0\n",
            "1  2.0\n",
            "2  NaN\n",
            "3  4.0\n",
            "4  NaN\n",
            "5  6.0\n"
          ]
        }
      ]
    }
  ]
}