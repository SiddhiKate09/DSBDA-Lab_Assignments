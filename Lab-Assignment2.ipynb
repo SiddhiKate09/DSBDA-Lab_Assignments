{
  "nbformat": 4,
  "nbformat_minor": 0,
  "metadata": {
    "colab": {
      "provenance": [],
      "authorship_tag": "ABX9TyMtn4bpjQY5H7ZPzUXcpjRq",
      "include_colab_link": true
    },
    "kernelspec": {
      "name": "python3",
      "display_name": "Python 3"
    },
    "language_info": {
      "name": "python"
    }
  },
  "cells": [
    {
      "cell_type": "markdown",
      "metadata": {
        "id": "view-in-github",
        "colab_type": "text"
      },
      "source": [
        "<a href=\"https://colab.research.google.com/github/SiddhiKate09/DSBDA-Lab_Assignments/blob/main/Lab-Assignment2.ipynb\" target=\"_parent\"><img src=\"https://colab.research.google.com/assets/colab-badge.svg\" alt=\"Open In Colab\"/></a>"
      ]
    },
    {
      "cell_type": "code",
      "execution_count": null,
      "metadata": {
        "id": "zsyr3ecsoAA-"
      },
      "outputs": [],
      "source": [
        "import pandas as pd\n",
        "import numpy as np"
      ]
    },
    {
      "cell_type": "code",
      "source": [
        "df=pd.read_csv(\"/content/studentPerformance.csv\")\n",
        "print(df)"
      ],
      "metadata": {
        "colab": {
          "base_uri": "https://localhost:8080/"
        },
        "id": "cEgpF-vIo8eE",
        "outputId": "9dcae84f-e53a-4402-a99f-50b177869b0c"
      },
      "execution_count": null,
      "outputs": [
        {
          "output_type": "stream",
          "name": "stdout",
          "text": [
            "    maths_score  reading_score  writing_score  placement_score  \\\n",
            "0          78.0           79.0             69             82.0   \n",
            "1          74.0           80.0             70             92.0   \n",
            "2          62.0           79.0             76             86.0   \n",
            "3           NaN           92.0             62             95.0   \n",
            "4          78.0          170.0             73             82.0   \n",
            "5          75.0           75.0             68             96.0   \n",
            "6          65.0           93.0             74             98.0   \n",
            "7          78.0           93.0             64             83.0   \n",
            "8          65.0           88.0             65             80.0   \n",
            "9          77.0            NaN            125             90.0   \n",
            "10         64.0           83.0             77             99.0   \n",
            "11         64.0           84.0             72             88.0   \n",
            "12         71.0           79.0             60             94.0   \n",
            "13         70.0           90.0             77             86.0   \n",
            "14         62.0           85.0             72              NaN   \n",
            "15         63.0           89.0             72             95.0   \n",
            "16         65.0           86.0             80             88.0   \n",
            "17         70.0           93.0             68             80.0   \n",
            "18         63.0           76.0             74            100.0   \n",
            "19         76.0           95.0             60             96.0   \n",
            "20         61.0           95.0             75             97.0   \n",
            "21         60.0           75.0             61             86.0   \n",
            "22         65.0            NaN             77             80.0   \n",
            "23         77.0           77.0             68             99.0   \n",
            "24         67.0           77.0             75             80.0   \n",
            "25         72.0           80.0             74             91.0   \n",
            "26         78.0           90.0             67             85.0   \n",
            "27         64.0           86.0             90             87.0   \n",
            "28        200.0           94.0             86             98.0   \n",
            "\n",
            "    club_join_year  placement_score.1  \n",
            "0           2018.0                8.0  \n",
            "1           2019.0                3.0  \n",
            "2           2020.0                5.0  \n",
            "3           2021.0                7.0  \n",
            "4           2020.0                7.0  \n",
            "5           2018.0                3.0  \n",
            "6           2021.0                9.0  \n",
            "7           2020.0                6.0  \n",
            "8           2018.0                9.0  \n",
            "9              NaN                9.0  \n",
            "10          2028.0                4.0  \n",
            "11          2020.0                9.0  \n",
            "12          2017.0                3.0  \n",
            "13          2022.0                9.0  \n",
            "14          2032.0                8.0  \n",
            "15          2022.0                8.0  \n",
            "16          2021.0                5.0  \n",
            "17          2022.0                7.0  \n",
            "18          2036.0                7.0  \n",
            "19          2019.0                7.0  \n",
            "20          2038.0                NaN  \n",
            "21          2019.0                4.0  \n",
            "22          2040.0                9.0  \n",
            "23          2019.0                3.0  \n",
            "24             NaN                7.0  \n",
            "25          2043.0                4.0  \n",
            "26          2044.0                7.0  \n",
            "27          2045.0                6.0  \n",
            "28          2046.0                9.0  \n"
          ]
        }
      ]
    },
    {
      "cell_type": "code",
      "source": [
        "print(df.isna().sum())"
      ],
      "metadata": {
        "colab": {
          "base_uri": "https://localhost:8080/"
        },
        "id": "N2Ah01YQpTiA",
        "outputId": "b775c3b4-bc08-4aaf-de48-de02c93c575e"
      },
      "execution_count": null,
      "outputs": [
        {
          "output_type": "stream",
          "name": "stdout",
          "text": [
            "maths_score          1\n",
            "reading_score        2\n",
            "writing_score        0\n",
            "placement_score      1\n",
            "club_join_year       2\n",
            "placement_score.1    1\n",
            "dtype: int64\n"
          ]
        }
      ]
    },
    {
      "cell_type": "code",
      "source": [
        "print(df.isnull())"
      ],
      "metadata": {
        "colab": {
          "base_uri": "https://localhost:8080/"
        },
        "id": "lnd_TprtwT2i",
        "outputId": "99bea331-c2c0-4649-b6df-237ed2d71d32"
      },
      "execution_count": null,
      "outputs": [
        {
          "output_type": "stream",
          "name": "stdout",
          "text": [
            "    maths_score  reading_score  writing_score  placement_score  \\\n",
            "0         False          False          False            False   \n",
            "1         False          False          False            False   \n",
            "2         False          False          False            False   \n",
            "3          True          False          False            False   \n",
            "4         False          False          False            False   \n",
            "5         False          False          False            False   \n",
            "6         False          False          False            False   \n",
            "7         False          False          False            False   \n",
            "8         False          False          False            False   \n",
            "9         False           True          False            False   \n",
            "10        False          False          False            False   \n",
            "11        False          False          False            False   \n",
            "12        False          False          False            False   \n",
            "13        False          False          False            False   \n",
            "14        False          False          False             True   \n",
            "15        False          False          False            False   \n",
            "16        False          False          False            False   \n",
            "17        False          False          False            False   \n",
            "18        False          False          False            False   \n",
            "19        False          False          False            False   \n",
            "20        False          False          False            False   \n",
            "21        False          False          False            False   \n",
            "22        False           True          False            False   \n",
            "23        False          False          False            False   \n",
            "24        False          False          False            False   \n",
            "25        False          False          False            False   \n",
            "26        False          False          False            False   \n",
            "27        False          False          False            False   \n",
            "28        False          False          False            False   \n",
            "\n",
            "    club_join_year  placement_score.1  \n",
            "0            False              False  \n",
            "1            False              False  \n",
            "2            False              False  \n",
            "3            False              False  \n",
            "4            False              False  \n",
            "5            False              False  \n",
            "6            False              False  \n",
            "7            False              False  \n",
            "8            False              False  \n",
            "9             True              False  \n",
            "10           False              False  \n",
            "11           False              False  \n",
            "12           False              False  \n",
            "13           False              False  \n",
            "14           False              False  \n",
            "15           False              False  \n",
            "16           False              False  \n",
            "17           False              False  \n",
            "18           False              False  \n",
            "19           False              False  \n",
            "20           False               True  \n",
            "21           False              False  \n",
            "22           False              False  \n",
            "23           False              False  \n",
            "24            True              False  \n",
            "25           False              False  \n",
            "26           False              False  \n",
            "27           False              False  \n",
            "28           False              False  \n"
          ]
        }
      ]
    },
    {
      "cell_type": "code",
      "source": [
        "series1 = pd.notnull(df[\"maths_score\"])\n",
        "print(series1)\n"
      ],
      "metadata": {
        "colab": {
          "base_uri": "https://localhost:8080/"
        },
        "id": "ztNlVXCVp1hM",
        "outputId": "0ef54afe-d656-4bc0-e752-febb55326f23"
      },
      "execution_count": null,
      "outputs": [
        {
          "output_type": "stream",
          "name": "stdout",
          "text": [
            "0      True\n",
            "1      True\n",
            "2      True\n",
            "3     False\n",
            "4      True\n",
            "5      True\n",
            "6      True\n",
            "7      True\n",
            "8      True\n",
            "9      True\n",
            "10     True\n",
            "11     True\n",
            "12     True\n",
            "13     True\n",
            "14     True\n",
            "15     True\n",
            "16     True\n",
            "17     True\n",
            "18     True\n",
            "19     True\n",
            "20     True\n",
            "21     True\n",
            "22     True\n",
            "23     True\n",
            "24     True\n",
            "25     True\n",
            "26     True\n",
            "27     True\n",
            "28     True\n",
            "Name: maths_score, dtype: bool\n"
          ]
        }
      ]
    },
    {
      "cell_type": "code",
      "source": [
        "print(df.dropna(axis=0, how='any'))"
      ],
      "metadata": {
        "colab": {
          "base_uri": "https://localhost:8080/"
        },
        "id": "9UGQ64POrzun",
        "outputId": "67af1f34-7751-422b-d6eb-dd151a4afe3e"
      },
      "execution_count": null,
      "outputs": [
        {
          "output_type": "stream",
          "name": "stdout",
          "text": [
            "    maths_score  reading_score  writing_score  placement_score  \\\n",
            "0          78.0           79.0             69             82.0   \n",
            "1          74.0           80.0             70             92.0   \n",
            "2          62.0           79.0             76             86.0   \n",
            "4          78.0           78.0             73             82.0   \n",
            "5          75.0           75.0             68             96.0   \n",
            "6          65.0           93.0             74             98.0   \n",
            "7          78.0           93.0             64             83.0   \n",
            "8          65.0           88.0             65             80.0   \n",
            "10         64.0           83.0             77             99.0   \n",
            "11         64.0           84.0             72             88.0   \n",
            "12         71.0           79.0             60             94.0   \n",
            "13         70.0           90.0             77             86.0   \n",
            "15         63.0           89.0             72             95.0   \n",
            "16         65.0           86.0             80             88.0   \n",
            "17         70.0           93.0             68             80.0   \n",
            "18         63.0           76.0             74            100.0   \n",
            "19         76.0           95.0             60             96.0   \n",
            "21         71.0           75.0             61             86.0   \n",
            "23         65.0           77.0             68             99.0   \n",
            "25         67.0           80.0             74             91.0   \n",
            "26         72.0           90.0             67             85.0   \n",
            "27         78.0           86.0             90             87.0   \n",
            "28         64.0           94.0             86             98.0   \n",
            "\n",
            "    club_join_year  placement_score.1  \n",
            "0           2018.0                8.0  \n",
            "1           2019.0                3.0  \n",
            "2           2020.0                5.0  \n",
            "4           2020.0                7.0  \n",
            "5           2018.0                3.0  \n",
            "6           2021.0                9.0  \n",
            "7           2020.0                6.0  \n",
            "8           2018.0                9.0  \n",
            "10          2028.0                4.0  \n",
            "11          2020.0                9.0  \n",
            "12          2017.0                3.0  \n",
            "13          2022.0                9.0  \n",
            "15          2022.0                8.0  \n",
            "16          2021.0                5.0  \n",
            "17          2022.0                7.0  \n",
            "18          2036.0                7.0  \n",
            "19          2019.0                7.0  \n",
            "21          2019.0                4.0  \n",
            "23          2019.0                3.0  \n",
            "25          2043.0                4.0  \n",
            "26          2044.0                7.0  \n",
            "27          2045.0                6.0  \n",
            "28          2046.0                9.0  \n"
          ]
        }
      ]
    },
    {
      "cell_type": "code",
      "source": [
        "m_v = df['maths_score'].mean()\n",
        "df['maths_score'] = df['maths_score'].fillna(value=m_v)\n",
        "print(m_v)"
      ],
      "metadata": {
        "colab": {
          "base_uri": "https://localhost:8080/"
        },
        "id": "fK8_icPSuegP",
        "outputId": "8de8fecd-7fd1-4930-d07b-21d66a3c2bcb"
      },
      "execution_count": null,
      "outputs": [
        {
          "output_type": "stream",
          "name": "stdout",
          "text": [
            "73.71428571428571\n"
          ]
        }
      ]
    },
    {
      "cell_type": "code",
      "source": [
        "print(df.columns);"
      ],
      "metadata": {
        "id": "sxPKCRZvxmH5",
        "colab": {
          "base_uri": "https://localhost:8080/"
        },
        "outputId": "8d9900d9-7335-40f0-b17e-5f56c6c4ffb3"
      },
      "execution_count": null,
      "outputs": [
        {
          "output_type": "stream",
          "name": "stdout",
          "text": [
            "Index(['maths_score', 'reading_score', 'writing_score', 'placement_score',\n",
            "       'club_join_year', 'placement_score.1'],\n",
            "      dtype='object')\n"
          ]
        }
      ]
    },
    {
      "cell_type": "code",
      "source": [
        "col=['maths_score', 'reading_score', 'writing_score', 'placement_score',\n",
        "        'placement_score.1']\n",
        "df.boxplot(col);"
      ],
      "metadata": {
        "colab": {
          "base_uri": "https://localhost:8080/",
          "height": 430
        },
        "id": "7qtK3j2w4cqi",
        "outputId": "c30fdd5b-226f-41b8-c6bb-44b63b9e02d4"
      },
      "execution_count": null,
      "outputs": [
        {
          "output_type": "display_data",
          "data": {
            "text/plain": [
              "<Figure size 640x480 with 1 Axes>"
            ],
            "image/png": "[encoded data removed]"
          },
          "metadata": {}
        }
      ]
    },
    {
      "cell_type": "code",
      "source": [
        "print(np.where(df['maths_score']>90))"
      ],
      "metadata": {
        "colab": {
          "base_uri": "https://localhost:8080/"
        },
        "id": "Yx88Q0l85TVr",
        "outputId": "7226092a-47c3-49f0-a459-07d7a9401771"
      },
      "execution_count": null,
      "outputs": [
        {
          "output_type": "stream",
          "name": "stdout",
          "text": [
            "(array([28]),)\n"
          ]
        }
      ]
    },
    {
      "cell_type": "code",
      "source": [
        "print(np.where(df['reading_score']<100))"
      ],
      "metadata": {
        "colab": {
          "base_uri": "https://localhost:8080/"
        },
        "id": "pA9CXmZV6c4I",
        "outputId": "a0e5f94a-8b79-45ef-d736-e5c10a4e5968"
      },
      "execution_count": null,
      "outputs": [
        {
          "output_type": "stream",
          "name": "stdout",
          "text": [
            "(array([ 0,  1,  2,  3,  5,  6,  7,  8, 10, 11, 12, 13, 14, 15, 16, 17, 18,\n",
            "       19, 20, 21, 23, 24, 25, 26, 27, 28]),)\n"
          ]
        }
      ]
    },
    {
      "cell_type": "code",
      "source": [
        "print(np.where(df['writing_score']<30))"
      ],
      "metadata": {
        "colab": {
          "base_uri": "https://localhost:8080/"
        },
        "id": "ZdGW0kbd73C7",
        "outputId": "38227a07-0393-4030-c691-7656012ad689"
      },
      "execution_count": null,
      "outputs": [
        {
          "output_type": "stream",
          "name": "stdout",
          "text": [
            "(array([], dtype=int64),)\n"
          ]
        }
      ]
    },
    {
      "cell_type": "code",
      "source": [
        "current_year = pd.to_datetime('today').year"
      ],
      "metadata": {
        "id": "OTLnzCVX8JdM"
      },
      "execution_count": null,
      "outputs": []
    },
    {
      "cell_type": "code",
      "source": [
        "df['Duration'] = current_year - df['club_join_year']"
      ],
      "metadata": {
        "id": "7vD8rvlb-4f9"
      },
      "execution_count": null,
      "outputs": []
    },
    {
      "cell_type": "code",
      "source": [
        "print(df.head())"
      ],
      "metadata": {
        "colab": {
          "base_uri": "https://localhost:8080/"
        },
        "id": "0dXATNO7--pj",
        "outputId": "92792c38-41c3-4063-b7d9-52a4a0acfe4f"
      },
      "execution_count": null,
      "outputs": [
        {
          "output_type": "stream",
          "name": "stdout",
          "text": [
            "   maths_score  reading_score  writing_score  placement_score  club_join_year  \\\n",
            "0    78.000000           79.0             69             82.0          2018.0   \n",
            "1    74.000000           80.0             70             92.0          2019.0   \n",
            "2    62.000000           79.0             76             86.0          2020.0   \n",
            "3    73.714286           92.0             62             95.0          2021.0   \n",
            "4    78.000000          170.0             73             82.0          2020.0   \n",
            "\n",
            "   placement_score.1  Duration  \n",
            "0                8.0       7.0  \n",
            "1                3.0       6.0  \n",
            "2                5.0       5.0  \n",
            "3                7.0       4.0  \n",
            "4                7.0       5.0  \n"
          ]
        }
      ]
    },
    {
      "cell_type": "code",
      "source": [
        "import matplotlib.pyplot as plt\n",
        "df['maths_score'].plot(kind='hist')\n"
      ],
      "metadata": {
        "colab": {
          "base_uri": "https://localhost:8080/",
          "height": 447
        },
        "id": "bNWEeIB7_RMF",
        "outputId": "bf7aaeed-eef8-4ecc-f12b-d6dcc6f8e62c"
      },
      "execution_count": null,
      "outputs": [
        {
          "output_type": "execute_result",
          "data": {
            "text/plain": [
              "<Axes: ylabel='Frequency'>"
            ]
          },
          "metadata": {},
          "execution_count": 58
        },
        {
          "output_type": "display_data",
          "data": {
            "text/plain": [
              "<Figure size 640x480 with 1 Axes>"
            ],
            "image/png": "[encoded data removed]"
          },
          "metadata": {}
        }
      ]
    },
    {
      "cell_type": "code",
      "source": [
        "df['log_math'] = np.log10(df['maths_score'])\n"
      ],
      "metadata": {
        "id": "FQEl3EQ-DNQJ"
      },
      "execution_count": null,
      "outputs": []
    },
    {
      "cell_type": "code",
      "source": [
        "df['log_math'].plot(kind = 'hist')"
      ],
      "metadata": {
        "colab": {
          "base_uri": "https://localhost:8080/",
          "height": 447
        },
        "id": "aqS7EZArDfbJ",
        "outputId": "b623c58d-4113-4491-f006-51aa507d7bce"
      },
      "execution_count": null,
      "outputs": [
        {
          "output_type": "execute_result",
          "data": {
            "text/plain": [
              "<Axes: ylabel='Frequency'>"
            ]
          },
          "metadata": {},
          "execution_count": 61
        },
        {
          "output_type": "display_data",
          "data": {
            "text/plain": [
              "<Figure size 640x480 with 1 Axes>"
            ],
            "image/png": "[encoded data removed]"
          },
          "metadata": {}
        }
      ]
    }
  ]
}